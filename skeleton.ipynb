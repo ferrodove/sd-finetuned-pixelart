{
  "nbformat": 4,
  "nbformat_minor": 0,
  "metadata": {
    "colab": {
      "provenance": [],
      "collapsed_sections": []
    },
    "kernelspec": {
      "name": "python3",
      "display_name": "Python 3"
    },
    "language_info": {
      "name": "python"
    }
  },
  "cells": [
    {
      "cell_type": "code",
      "source": [
        "# install\n"
      ],
      "metadata": {
        "id": "9CBhbmE558ig"
      },
      "execution_count": null,
      "outputs": []
    },
    {
      "cell_type": "code",
      "source": [
        "# import\n"
      ],
      "metadata": {
        "id": "XZWWEfdL57ab"
      },
      "execution_count": null,
      "outputs": []
    },
    {
      "cell_type": "code",
      "source": [
        "# create the finetuning dataset\n",
        "\n",
        "# use the reddit and pushshift APIs to download images from reddit.com/r/PixelArt\n",
        "\n",
        "# heuristics: use a score of >100 to signal good art?\n",
        "# we need to balance a high score with a large enough dataset\n",
        "# also pixel art has different styles; 8-bit, 16-bit, sprites, animations, full sized art, ....\n",
        "# should we stratify by style and train a model for each one? We shouldn't need too many samples...\n",
        "\n",
        "\n",
        "# now we have raw dataset(s)\n",
        "\n",
        "# next apply the augmentations to standardize the width, height, make more samples\n"
      ],
      "metadata": {
        "id": "pdNsd-kM5_wY"
      },
      "execution_count": null,
      "outputs": []
    },
    {
      "cell_type": "code",
      "source": [
        "# NOTE another method\n",
        "\n",
        "# generate a small patch\n",
        "\n",
        "# then, slice it up into different pieces\n",
        "\n",
        "# then, patch it back into a new image where it is the upper-right/upper-left/lower-right/-lower-left quadrants\n",
        "\n",
        "# inpaint the new patches\n",
        "\n",
        "# rinse and repeat until we have a full sized image made of many pixel art patches woven together\n",
        "\n"
      ],
      "metadata": {
        "id": "do27V73X6MCl"
      },
      "execution_count": null,
      "outputs": []
    },
    {
      "cell_type": "code",
      "execution_count": null,
      "metadata": {
        "id": "OqgVtJ2K5vw6"
      },
      "outputs": [],
      "source": [
        "# set up stable diffusion finetuning based on provided guide\n"
      ]
    },
    {
      "cell_type": "code",
      "source": [
        "# run the finetuining \n"
      ],
      "metadata": {
        "id": "t5ZT45S354Vc"
      },
      "execution_count": null,
      "outputs": []
    },
    {
      "cell_type": "code",
      "source": [
        "# test the model out\n"
      ],
      "metadata": {
        "id": "09fOu9Gq558I"
      },
      "execution_count": null,
      "outputs": []
    }
  ]
}